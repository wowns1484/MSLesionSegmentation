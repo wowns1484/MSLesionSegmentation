{
 "cells": [
  {
   "cell_type": "code",
   "execution_count": 10,
   "metadata": {},
   "outputs": [
    {
     "name": "stdout",
     "output_type": "stream",
     "text": [
      "<class 'nibabel.nifti1.Nifti1Header'> object, endian='<'\n",
      "sizeof_hdr      : 348\n",
      "data_type       : b''\n",
      "db_name         : b''\n",
      "extents         : 0\n",
      "session_error   : 0\n",
      "regular         : b''\n",
      "dim_info        : 0\n",
      "dim             : [  3 181 217 181   1   1   1   1]\n",
      "intent_p1       : 0.0\n",
      "intent_p2       : 0.0\n",
      "intent_p3       : 0.0\n",
      "intent_code     : none\n",
      "datatype        : float32\n",
      "bitpix          : 32\n",
      "slice_start     : 0\n",
      "pixdim          : [1. 1. 1. 1. 1. 1. 1. 1.]\n",
      "vox_offset      : 0.0\n",
      "scl_slope       : nan\n",
      "scl_inter       : nan\n",
      "slice_end       : 0\n",
      "slice_code      : unknown\n",
      "xyzt_units      : 0\n",
      "cal_max         : 0.0\n",
      "cal_min         : 0.0\n",
      "slice_duration  : 0.0\n",
      "toffset         : 0.0\n",
      "glmax           : 0\n",
      "glmin           : 0\n",
      "descrip         : b''\n",
      "aux_file        : b''\n",
      "qform_code      : unknown\n",
      "sform_code      : aligned\n",
      "quatern_b       : 0.0\n",
      "quatern_c       : 0.0\n",
      "quatern_d       : 1.0\n",
      "qoffset_x       : 0.0\n",
      "qoffset_y       : 0.0\n",
      "qoffset_z       : 0.0\n",
      "srow_x          : [-1.  0.  0.  0.]\n",
      "srow_y          : [ 0. -1.  0.  0.]\n",
      "srow_z          : [0. 0. 1. 0.]\n",
      "intent_name     : b''\n",
      "magic           : b'n+1'\n"
     ]
    }
   ],
   "source": [
    "import nibabel as nib\n",
    "import numpy as np\n",
    "import torch\n",
    "import matplotlib.pyplot as plt\n",
    "\n",
    "# 1. Proxy 불러오기\n",
    "mri = nib.load(r'results\\miccai2008-mslesions-flair-20220126-133112\\test\\test01_02_KIT.nii')\n",
    "original_mri = nib.load(r'datasets\\MICCAI_2008_MS_Lesions\\testdata_website\\test01\\preprocessed\\test01_01_flair_pp.nii')\n",
    "\n",
    "# 2. Header 불러오기\n",
    "print(mri.header)\n",
    "# print(original_mri.header)\n"
   ]
  },
  {
   "cell_type": "code",
   "execution_count": 11,
   "metadata": {},
   "outputs": [
    {
     "name": "stdout",
     "output_type": "stream",
     "text": [
      "<class 'numpy.memmap'>\n",
      "(181, 217, 181)\n",
      "[0. 1.]\n"
     ]
    }
   ],
   "source": [
    "flair = mri.get_fdata()\n",
    "print(type(flair))\n",
    "print(flair.shape)\n",
    "print(np.unique(flair))"
   ]
  },
  {
   "cell_type": "markdown",
   "metadata": {},
   "source": [
    "# Plotting single images"
   ]
  },
  {
   "cell_type": "code",
   "execution_count": 12,
   "metadata": {},
   "outputs": [
    {
     "data": {
      "image/png": "[encoded data removed]",
      "text/plain": [
       "<Figure size 432x288 with 1 Axes>"
      ]
     },
     "metadata": {
      "needs_background": "light"
     },
     "output_type": "display_data"
    }
   ],
   "source": [
    "# 1. figure와 axes 초기화\n",
    "fig = plt.figure()\n",
    "\n",
    "ax1 = fig.add_subplot(1,3,1)\n",
    "\n",
    "# 2. plot slices of volume\n",
    "flair_slice = flair[:,:,100]\n",
    "ax1.imshow(flair_slice, cmap='gray')\n",
    "\n",
    "# 3. edit axes and display figure\n",
    "ax1.axis('off')\n",
    "plt.show()"
   ]
  },
  {
   "cell_type": "markdown",
   "metadata": {},
   "source": [
    "# Plotting multiple images"
   ]
  },
  {
   "cell_type": "code",
   "execution_count": null,
   "metadata": {},
   "outputs": [],
   "source": [
    "# 1. initialize figure and axes\n",
    "fig, axes = plt.subplots(nrows=3, ncols=10, figsize=(40,10))\n",
    "\n",
    "slice_indices = [i * mri.shape[2]//10 for i in range(10)]\n",
    "print(slice_indices)\n",
    "\n",
    "for i in range(10):\n",
    "    flair_slice = flair[:,:,slice_indices[i]]\n",
    "    axes[0][i].imshow(flair_slice,cmap='gray')\n",
    "    axes[0][i].axis('off')\n",
    "\n",
    "for i in range(10):\n",
    "    mask1_slice = mask1[:,:,slice_indices[i]]\n",
    "    axes[1][i].imshow(mask1_slice,cmap='gray')\n",
    "    axes[1][i].axis('off')\n",
    "\n",
    "for i in range(10):\n",
    "    mask2_slice = mask2[:,:,slice_indices[i]]\n",
    "    axes[2][i].imshow(mask2_slice,cmap='gray')\n",
    "    axes[2][i].axis('off')\n",
    "\n",
    "plt.show()"
   ]
  },
  {
   "cell_type": "code",
   "execution_count": null,
   "metadata": {},
   "outputs": [],
   "source": [
    "import glob\n",
    "\n",
    "paths = glob.glob(r'C:\\Users\\VIP444\\Documents\\Github\\MS-Lesions-Segmentation\\MS-Lesions-Pytorch\\datasets\\MICCAI_2008_MS_Lesions\\training\\*\\*\\*mask1.nii.gz')\n",
    "print(len(paths))\n",
    "\n",
    "flair_paths = sorted(glob.glob(r'C:\\Users\\VIP444\\Documents\\Github\\MS-Lesions-Segmentation\\MS-Lesions-Pytorch\\datasets\\MICCAI_2008_MS_Lesions/training/*/*/*flair_pp*.nii.gz'))\n",
    "print(len(flair_paths))"
   ]
  },
  {
   "cell_type": "code",
   "execution_count": null,
   "metadata": {},
   "outputs": [],
   "source": [
    "import torchio as tio\n",
    "import torchvision.transforms as T\n",
    "import torch\n",
    "\n",
    "oneOf = tio.OneOf({\n",
    "    tio.transforms.RandomFlip(axes=(0,)) : 0.5,\n",
    "    tio.transforms.RandomElasticDeformation() : 1,\n",
    "    tio.transforms.RandomAffine() : 1,\n",
    "    tio.transforms.RandomNoise() : 0.2,\n",
    "    tio.transforms.RandomGamma() : 0.2\n",
    "})\n",
    "\n",
    "tflair = torch.FloatTensor(flair)\n",
    "tlabel1 = torch.FloatTensor(mask1)\n",
    "tflair = tflair.unsqueeze(0)\n",
    "tlabel1 =tlabel1.unsqueeze(0)\n",
    "\n",
    "\n",
    "\n",
    "transform = tio.Compose([\n",
    "    # tio.Resample(4),\n",
    "    # tio.RandomMotion(p=0.2),\n",
    "    # tio.RandomBiasField(p=0.3),\n",
    "    # tio.RandomNoise(p=0.5),\n",
    "    tio.RandomFlip(axes=(0,)),\n",
    "    tio.RandomAffine(),\n",
    "    # tio.ZNormalization()\n",
    "])\n",
    "\n",
    "tlabel1= transform(tlabel1)\n",
    "\n",
    "np.unique(tlabel1)\n"
   ]
  },
  {
   "cell_type": "code",
   "execution_count": null,
   "metadata": {},
   "outputs": [],
   "source": [
    "fig, ax = plt.subplots(nrows=1,ncols=2)\n",
    "\n",
    "ax[0].imshow(flair[:,:,80])\n",
    "ax[1].imshow(pp_flair[0][:,:,80])"
   ]
  },
  {
   "cell_type": "code",
   "execution_count": null,
   "metadata": {},
   "outputs": [],
   "source": []
  },
  {
   "cell_type": "code",
   "execution_count": null,
   "metadata": {},
   "outputs": [],
   "source": []
  },
  {
   "cell_type": "code",
   "execution_count": null,
   "metadata": {},
   "outputs": [],
   "source": []
  },
  {
   "cell_type": "code",
   "execution_count": null,
   "metadata": {},
   "outputs": [],
   "source": []
  }
 ],
 "metadata": {
  "interpreter": {
   "hash": "f704e57089a21974e96b821d2a69897d47988f5af198dddf49a6ae9d7c2132da"
  },
  "kernelspec": {
   "display_name": "Python 3.8.8 64-bit ('torch': conda)",
   "language": "python",
   "name": "python3"
  },
  "language_info": {
   "codemirror_mode": {
    "name": "ipython",
    "version": 3
   },
   "file_extension": ".py",
   "mimetype": "text/x-python",
   "name": "python",
   "nbconvert_exporter": "python",
   "pygments_lexer": "ipython3",
   "version": "3.7.11"
  },
  "orig_nbformat": 2
 },
 "nbformat": 4,
 "nbformat_minor": 2
}
